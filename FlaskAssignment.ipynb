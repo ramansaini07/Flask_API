{
  "nbformat": 4,
  "nbformat_minor": 0,
  "metadata": {
    "colab": {
      "provenance": []
    },
    "kernelspec": {
      "name": "python3",
      "display_name": "Python 3"
    },
    "language_info": {
      "name": "python"
    }
  },
  "cells": [
    {
      "cell_type": "code",
      "execution_count": null,
      "metadata": {
        "id": "z_4jzgKnJ1rO"
      },
      "outputs": [],
      "source": []
    },
    {
      "cell_type": "markdown",
      "source": [
        "                                  **Restful API & Flask**\n",
        "\n",
        "1. **What is a RESTful API?**\n",
        "\n",
        "   A **RESTful API** is an architectural style for building web services that allow different applications to communicate with each other over HTTP. REST stands for Representational State Transfer. It uses standard HTTP methods (GET, POST, PUT, DELETE) and URLs to interact with resources (data objects). RESTful APIs are stateless, meaning each request is independent, and they are designed to be scalable and simple.\n",
        "\n",
        "2. **What is an API specification?**\n",
        "\n",
        "   An **API specification** is a formal document that outlines how an API should behave. It defines the available endpoints, HTTP methods, request/response formats, authentication, and error handling. Examples of API specifications include **OpenAPI** and **Swagger**, which help developers design, document, and interact with APIs consistently.\n",
        "\n",
        "3. **What is Flask, and why is it popular for building APIs?**\n",
        "\n",
        "   **Flask** is a lightweight web framework for Python. It is easy to use, flexible, and well-suited for small to medium-sized web applications, including APIs. Flask is popular because it provides the essential tools to get started quickly while allowing developers to add extensions for more complex features as needed. It’s known for its simplicity and the ability to scale with your project.\n",
        "\n",
        "4. **What is routing in Flask?**\n",
        "\n",
        "   **Routing** in Flask refers to how the framework maps incoming HTTP requests to specific Python functions (view functions). Routes are defined using the `@app.route()` decorator, which specifies the URL pattern and the HTTP methods that trigger the function.\n",
        "\n",
        "5. **How do you create a simple Flask application?**\n",
        "\n",
        "   A simple Flask app is created by importing Flask, creating an instance of the `Flask` class, defining routes, and running the app. Here’s a basic example:\n",
        "   ```python\n",
        "   from flask import Flask\n",
        "   app = Flask(__name__)\n",
        "\n",
        "   @app.route('/')\n",
        "   def hello():\n",
        "       return \"Hello, World!\"\n",
        "\n",
        "   if __name__ == '__main__':\n",
        "       app.run(debug=True)\n",
        "   ```\n",
        "\n",
        "6. **What are HTTP methods used in RESTful APIs?**\n",
        "\n",
        "   Common **HTTP methods** used in RESTful APIs include:\n",
        "   - **GET**: Retrieve data.\n",
        "   - **POST**: Create a new resource.\n",
        "   - **PUT**: Update an existing resource.\n",
        "   - **DELETE**: Remove a resource.\n",
        "   - **PATCH**: Partially update a resource.\n",
        "\n",
        "7. **What is the purpose of the `@app.route()` decorator in Flask?**\n",
        "\n",
        "   The `@app.route()` decorator in Flask is used to bind a URL to a specific view function. It tells Flask which function to call when a particular URL endpoint is requested.\n",
        "\n",
        "8. **What is the difference between GET and POST HTTP methods?**\n",
        "\n",
        "   - **GET** is used to request data from the server, and it is typically used for retrieving resources without modifying them.\n",
        "   - **POST** is used to send data to the server to create a new resource, and it may modify the server’s state.\n",
        "\n",
        "9. **How do you handle errors in Flask APIs?**\n",
        "\n",
        "   In Flask, errors can be handled by using error handlers. You can use `@app.errorhandler` to catch specific HTTP errors (e.g., 404 or 500). Flask also allows custom error messages and status codes to be returned in responses.\n",
        "   ```python\n",
        "   @app.errorhandler(404)\n",
        "   def page_not_found(e):\n",
        "       return jsonify(error=\"Page not found\"), 404\n",
        "   ```\n",
        "\n",
        "10. **How do you connect Flask to a SQL database?**\n",
        "\n",
        "    To connect Flask to a SQL database, you can use libraries such as **Flask-SQLAlchemy**. Here's an example of setting up a simple connection to a database:\n",
        "    ```python\n",
        "    from flask import Flask\n",
        "    from flask_sqlalchemy import SQLAlchemy\n",
        "\n",
        "    app = Flask(__name__)\n",
        "    app.config['SQLALCHEMY_DATABASE_URI'] = 'sqlite:///example.db'\n",
        "    db = SQLAlchemy(app)\n",
        "    ```\n",
        "\n",
        "11. **What is the role of Flask-SQLAlchemy?**\n",
        "\n",
        "    **Flask-SQLAlchemy** is an extension for Flask that provides integration with SQLAlchemy, a popular Object Relational Mapper (ORM) in Python. It simplifies database operations, such as querying, inserting, and updating data, using Python classes that map to database tables.\n",
        "\n",
        "12. **What are Flask blueprints, and how are they useful?**\n",
        "\n",
        "    **Flask blueprints** allow you to organize your application into modular components. Each blueprint can contain its own routes, templates, and static files. Blueprints make it easier to manage large applications by separating concerns and enabling code reuse.\n",
        "\n",
        "13. **What is the purpose of Flask's request object?**\n",
        "\n",
        "    Flask's **request object** allows you to access incoming request data, such as form data, query parameters, and headers. It’s used to interact with data sent by the client (browser or API consumer).\n",
        "\n",
        "14. **How do you create a RESTful API endpoint using Flask?**\n",
        "\n",
        "    To create a RESTful API endpoint in Flask, you define a route and specify an HTTP method (GET, POST, etc.). For example:\n",
        "    ```python\n",
        "    @app.route('/api/data', methods=['GET'])\n",
        "    def get_data():\n",
        "        return jsonify({\"key\": \"value\"})\n",
        "    ```\n",
        "\n",
        "15. **What is the purpose of Flask's jsonify() function?**\n",
        "\n",
        "    **`jsonify()`** is a Flask function that converts data into a JSON response. It sets the correct `Content-Type` (application/json) and serializes Python objects (e.g., dictionaries) into JSON format.\n",
        "\n",
        "16. **Explain Flask’s url_for() function.**\n",
        "\n",
        "    **`url_for()`** generates a URL for a specific function or endpoint, making your code more flexible by avoiding hardcoded URLs. It takes the function name and optional arguments as parameters and returns the corresponding URL.\n",
        "    ```python\n",
        "    url_for('get_data')  # Returns the URL for the 'get_data' route.\n",
        "    ```\n",
        "\n",
        "17. **How does Flask handle static files (CSS, JavaScript, etc.)?**\n",
        "\n",
        "    Flask automatically serves static files (CSS, JavaScript, images, etc.) from the `static` folder in your project directory. You can reference them in HTML templates with `url_for('static', filename='file.css')`.\n",
        "\n",
        "18. **What is an API specification, and how does it help in building a Flask API?**\n",
        "\n",
        "    An **API specification** outlines the behavior and requirements of your API. It helps ensure that your API is consistent, understandable, and well-documented, which makes development and integration smoother.\n",
        "\n",
        "19. **What are HTTP status codes, and why are they important in a Flask API?**\n",
        "\n",
        "    **HTTP status codes** indicate the result of an API request. They help the client understand if a request was successful or if an error occurred. Common status codes include:\n",
        "    - **200**: OK (Request succeeded)\n",
        "    - **404**: Not Found (Resource not found)\n",
        "    - **500**: Internal Server Error (Server error)\n",
        "\n",
        "20. **How do you handle POST requests in Flask?**\n",
        "\n",
        "    To handle **POST** requests, you specify the `POST` method in the `@app.route()` decorator and use Flask’s `request` object to retrieve data sent by the client:\n",
        "    ```python\n",
        "    @app.route('/submit', methods=['POST'])\n",
        "    def submit_data():\n",
        "        data = request.get_json()  # Get JSON data from the request\n",
        "        return jsonify({\"message\": \"Data received!\"})\n",
        "    ```\n",
        "\n",
        "21. **How would you secure a Flask API?**\n",
        "\n",
        "    Securing a Flask API can involve using authentication (e.g., JWT tokens), rate-limiting, and input validation. The most common method is to use token-based authentication to verify the identity of users.\n",
        "\n",
        "22. **What is the significance of the Flask-RESTful extension?**\n",
        "\n",
        "    **Flask-RESTful** is an extension for Flask that simplifies the creation of RESTful APIs by providing tools to define API resources, handle HTTP methods, and return structured responses.\n",
        "\n",
        "23. **What is the role of Flask’s session object?**\n",
        "\n",
        "    Flask’s **session object** stores data between requests, typically used for user session management (e.g., storing login status, user preferences). Session data is stored on the client-side, but it’s securely signed to prevent tampering.\n"
      ],
      "metadata": {
        "id": "9wyNngMyKcCe"
      }
    },
    {
      "cell_type": "code",
      "source": [
        "#1. How do you create a basic Flask application.\n",
        "from flask import Flask\n",
        "\n",
        "app = Flask(__name__)\n",
        "\n",
        "@app.route('/')\n",
        "def hello():\n",
        "    return \"Hello, World!\"\n",
        "\n",
        "if __name__ == '__main__':\n",
        "    app.run(debug=True)"
      ],
      "metadata": {
        "colab": {
          "base_uri": "https://localhost:8080/"
        },
        "id": "_gK0zIJxLRJU",
        "outputId": "da1ac21a-a58b-4d4c-e6ab-6b0084cf50ee"
      },
      "execution_count": 1,
      "outputs": [
        {
          "output_type": "stream",
          "name": "stdout",
          "text": [
            " * Serving Flask app '__main__'\n",
            " * Debug mode: on\n"
          ]
        },
        {
          "output_type": "stream",
          "name": "stderr",
          "text": [
            "INFO:werkzeug:\u001b[31m\u001b[1mWARNING: This is a development server. Do not use it in a production deployment. Use a production WSGI server instead.\u001b[0m\n",
            " * Running on http://127.0.0.1:5000\n",
            "INFO:werkzeug:\u001b[33mPress CTRL+C to quit\u001b[0m\n",
            "INFO:werkzeug: * Restarting with stat\n"
          ]
        }
      ]
    },
    {
      "cell_type": "code",
      "source": [
        "#1. How do you serve static files like images or CSS in Flask?\n",
        "from flask import Flask, send_from_directory\n",
        "\n",
        "app = Flask(__name__)\n",
        "\n",
        "@app.route('/static/<path:filename>')\n",
        "def serve_static(filename):\n",
        "    return send_from_directory('static', filename)"
      ],
      "metadata": {
        "id": "aDx100e2LR-a"
      },
      "execution_count": 2,
      "outputs": []
    },
    {
      "cell_type": "code",
      "source": [
        "#3. How do you render HTML templates in Flask?\n",
        "from flask import render_template\n",
        "\n",
        "@app.route('/')\n",
        "def home():\n",
        "    return render_template('index.html')\n"
      ],
      "metadata": {
        "id": "azgnEJsoLR7W"
      },
      "execution_count": 3,
      "outputs": []
    },
    {
      "cell_type": "code",
      "source": [
        "#4. How can you generate URLs for routes in Flask using url_for?\n",
        "from flask import url_for\n",
        "\n",
        "@app.route('/')\n",
        "def home1():\n",
        "    return url_for('home')"
      ],
      "metadata": {
        "id": "pnQa_9qQLR4c"
      },
      "execution_count": 21,
      "outputs": []
    },
    {
      "cell_type": "code",
      "source": [
        "#5. How do you handle forms in Flask?\n",
        "from flask import Flask, render_template, request\n",
        "\n",
        "app = Flask(__name__)\n",
        "\n",
        "@app.route('/')\n",
        "def form():\n",
        "    return render_template('form.html')"
      ],
      "metadata": {
        "id": "A1UhbvUuLR1u"
      },
      "execution_count": 22,
      "outputs": []
    },
    {
      "cell_type": "code",
      "source": [
        "pip install flask_wtf"
      ],
      "metadata": {
        "colab": {
          "base_uri": "https://localhost:8080/"
        },
        "id": "Csv0yCIjQkO-",
        "outputId": "949f7d6d-a9a1-42dd-f7ad-20f0dece7eaf"
      },
      "execution_count": 26,
      "outputs": [
        {
          "output_type": "stream",
          "name": "stdout",
          "text": [
            "Collecting flask_wtf\n",
            "  Downloading flask_wtf-1.2.2-py3-none-any.whl.metadata (3.4 kB)\n",
            "Requirement already satisfied: flask in /usr/local/lib/python3.11/dist-packages (from flask_wtf) (3.1.0)\n",
            "Requirement already satisfied: itsdangerous in /usr/local/lib/python3.11/dist-packages (from flask_wtf) (2.2.0)\n",
            "Collecting wtforms (from flask_wtf)\n",
            "  Downloading wtforms-3.2.1-py3-none-any.whl.metadata (5.3 kB)\n",
            "Requirement already satisfied: Werkzeug>=3.1 in /usr/local/lib/python3.11/dist-packages (from flask->flask_wtf) (3.1.3)\n",
            "Requirement already satisfied: Jinja2>=3.1.2 in /usr/local/lib/python3.11/dist-packages (from flask->flask_wtf) (3.1.6)\n",
            "Requirement already satisfied: click>=8.1.3 in /usr/local/lib/python3.11/dist-packages (from flask->flask_wtf) (8.1.8)\n",
            "Requirement already satisfied: blinker>=1.9 in /usr/local/lib/python3.11/dist-packages (from flask->flask_wtf) (1.9.0)\n",
            "Requirement already satisfied: markupsafe in /usr/local/lib/python3.11/dist-packages (from wtforms->flask_wtf) (3.0.2)\n",
            "Downloading flask_wtf-1.2.2-py3-none-any.whl (12 kB)\n",
            "Downloading wtforms-3.2.1-py3-none-any.whl (152 kB)\n",
            "\u001b[2K   \u001b[90m━━━━━━━━━━━━━━━━━━━━━━━━━━━━━━━━━━━━━━━━\u001b[0m \u001b[32m152.5/152.5 kB\u001b[0m \u001b[31m5.6 MB/s\u001b[0m eta \u001b[36m0:00:00\u001b[0m\n",
            "\u001b[?25hInstalling collected packages: wtforms, flask_wtf\n",
            "Successfully installed flask_wtf-1.2.2 wtforms-3.2.1\n"
          ]
        }
      ]
    },
    {
      "cell_type": "code",
      "source": [
        "#6. How can you validate form data in Flask?\n",
        "from flask import Flask, render_template, request\n",
        "from flask_wtf import FlaskForm\n",
        "from wtforms import StringField\n",
        "from wtforms.validators import DataRequired\n",
        "\n",
        "app = Flask(__name__)\n",
        "app.secret_key = 'your_secret_key'\n",
        "\n",
        "class NameForm(FlaskForm):\n",
        "    name = StringField('Name', validators=[DataRequired()])\n",
        "\n",
        "@app.route('/', methods=['GET', 'POST'])\n",
        "def index():\n",
        "    form = NameForm()\n",
        "    if form.validate_on_submit():\n",
        "        return f'Hello, {form.name.data}!'\n",
        "    return render_template('index.html', form=form)\n",
        "\n"
      ],
      "metadata": {
        "id": "06vC9RrOLRyz"
      },
      "execution_count": 27,
      "outputs": []
    },
    {
      "cell_type": "code",
      "source": [
        "#7. 7. How do you manage sessions in Flask?\n",
        "from flask import Flask, session\n",
        "app = Flask(__name__)\n",
        "app.secret_key = 'your_secret_key'\n",
        "\n",
        "@app.route('/')\n",
        "def index():\n",
        "    if 'username' in session:\n",
        "        return f'Logged in as {session[\"username\"]}'\n",
        "    return 'You are not logged in'"
      ],
      "metadata": {
        "id": "xGU7v9iVLRwC"
      },
      "execution_count": 28,
      "outputs": []
    },
    {
      "cell_type": "code",
      "source": [
        "#8. How do you redirect to a different route in Flask?\n",
        "from flask import Flask, redirect, url_for\n",
        "\n",
        "app = Flask(__name__)\n",
        "\n",
        "@app.route('/')\n",
        "def index():\n",
        "    return redirect(url_for('home'))\n",
        "\n",
        "def home():\n",
        "    return 'This is the home page'\n"
      ],
      "metadata": {
        "id": "7DGD0s-MQ0rv"
      },
      "execution_count": 30,
      "outputs": []
    },
    {
      "cell_type": "code",
      "source": [
        "# 9. How do you handle errors in Flask (e.g., 404)?\n",
        "from flask import Flask, jsonify\n",
        "\n",
        "app = Flask(__name__)\n",
        "\n",
        "@app.errorhandler(404)\n",
        "def page_not_found(error):\n",
        "    return jsonify({'error': 'Page not found'}), 404"
      ],
      "metadata": {
        "id": "y7oTdKfdQ5m5"
      },
      "execution_count": 31,
      "outputs": []
    },
    {
      "cell_type": "code",
      "source": [
        "#10. How do you structure a Flask app using Blueprints?\n",
        "from flask import Blueprint\n",
        "\n",
        "main = Blueprint('main', __name__)\n",
        "\n",
        "@main.route('/')\n",
        "def home():\n",
        "    return \"Welcome to the main page!\"\n"
      ],
      "metadata": {
        "id": "4AH05wVkRMKo"
      },
      "execution_count": 32,
      "outputs": []
    },
    {
      "cell_type": "code",
      "source": [
        "from flask import Flask\n",
        "\n",
        "\n",
        "app = Flask(__name__)\n",
        "app.register_blueprint(main)\n",
        "\n",
        "def create_app():\n",
        "    app = Flask(__name__)\n",
        "    app.register_blueprint(main)\n",
        "    return app\n"
      ],
      "metadata": {
        "id": "6xbNe2_ORcu_"
      },
      "execution_count": 38,
      "outputs": []
    },
    {
      "cell_type": "code",
      "source": [
        "#11. How do you define a custom Jinja filter in Flask?\n",
        "from flask import Flask\n",
        "\n",
        "app = Flask(__name__)\n",
        "\n",
        "@app.template_filter('custom_filter')\n",
        "def custom_filter(value):\n",
        "    return value.upper()"
      ],
      "metadata": {
        "id": "r8J3OK42Rd3g"
      },
      "execution_count": 39,
      "outputs": []
    },
    {
      "cell_type": "code",
      "source": [
        "#12. How can you redirect with query parameters in Flask?\n",
        "from flask import Flask, redirect, url_for\n",
        "\n",
        "app = Flask(__name__)\n",
        "\n",
        "@app.route('/')\n",
        "def index():\n",
        "    return redirect(url_for('home', name='John'))"
      ],
      "metadata": {
        "id": "1hHaBUj0Uwzv"
      },
      "execution_count": 40,
      "outputs": []
    },
    {
      "cell_type": "code",
      "source": [
        "#13. How do you return JSON responses in Flask?\n",
        "from flask import Flask, jsonify\n",
        "\n",
        "app = Flask(__name__)\n",
        "\n",
        "@app.route('/api/data')\n",
        "def get_data():\n",
        "    data = {'key': 'value'}\n",
        "    return jsonify({\"name\":\"John\", \"age\": 30})"
      ],
      "metadata": {
        "id": "of5897_ZUwxE"
      },
      "execution_count": 45,
      "outputs": []
    },
    {
      "cell_type": "code",
      "source": [
        "#14. How do you capture URL parameters in Flask?\n",
        "from flask import Flask\n",
        "\n",
        "app = Flask(__name__)\n",
        "\n",
        "@app.route('/user/<username>')\n",
        "def user_profile(username):\n",
        "    return f'Hello, {username}!'"
      ],
      "metadata": {
        "id": "mAqjSuAtUwt7"
      },
      "execution_count": 46,
      "outputs": []
    },
    {
      "cell_type": "code",
      "source": [],
      "metadata": {
        "id": "P2xGJMcNUwrF"
      },
      "execution_count": null,
      "outputs": []
    },
    {
      "cell_type": "code",
      "source": [],
      "metadata": {
        "id": "_nhUFdGcUwoX"
      },
      "execution_count": null,
      "outputs": []
    }
  ]
}